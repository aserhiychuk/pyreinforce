{
 "cells": [
  {
   "cell_type": "markdown",
   "metadata": {},
   "source": [
    "## Reinforcement Learning with Python: Deep Deterministic Policy Gradient"
   ]
  },
  {
   "cell_type": "markdown",
   "metadata": {},
   "source": [
    "Let's solve [Pendulum](https://gym.openai.com/envs/Pendulum-v0/) environment using Deep Deterministic Policy Gradient agent"
   ]
  },
  {
   "cell_type": "markdown",
   "metadata": {},
   "source": [
    "![LunarLander](../assets/Pendulum_160x160.gif)"
   ]
  },
  {
   "cell_type": "code",
   "execution_count": 1,
   "metadata": {},
   "outputs": [],
   "source": [
    "import sys\n",
    "sys.path.insert(0, '..')\n",
    "\n",
    "import numpy as np\n",
    "import tensorflow as tf\n",
    "from tensorflow.contrib.layers import xavier_initializer\n",
    "import gym\n",
    "\n",
    "import matplotlib.pyplot as plt\n",
    "%matplotlib inline\n",
    "\n",
    "from pyreinforce.brain import Brain\n",
    "from pyreinforce.acting import OrnsteinUhlenbeckPolicy\n",
    "from pyreinforce.memory import Memory\n",
    "from pyreinforce.converter import Converter\n",
    "from pyreinforce import DdpgAgent"
   ]
  },
  {
   "cell_type": "markdown",
   "metadata": {},
   "source": [
    "The `Actor` deterministically picks an action for a given state"
   ]
  },
  {
   "cell_type": "code",
   "execution_count": 2,
   "metadata": {},
   "outputs": [],
   "source": [
    "class Actor(object):\n",
    "    def __init__(self, sess, n_states, n_hidden, n_actions, lr=None, is_target=False, seed=None):\n",
    "        super().__init__()\n",
    "\n",
    "        self._sess = sess\n",
    "\n",
    "        scope = 'target' if is_target else 'primary'\n",
    "\n",
    "        with tf.variable_scope('actor'):\n",
    "            with tf.variable_scope(scope):\n",
    "                # Input layer\n",
    "                self._S = tf.placeholder(tf.float32, (None, n_states))\n",
    "\n",
    "                # Hidden layer\n",
    "                h1 = tf.layers.dense(self._S, n_hidden, tf.nn.relu, \n",
    "                                     kernel_initializer=xavier_initializer(seed=seed), \n",
    "                                     trainable=not is_target)\n",
    "\n",
    "                # Output layer\n",
    "                self._A = tf.layers.dense(h1, n_actions, tf.nn.tanh, \n",
    "                                          kernel_initializer=xavier_initializer(seed=seed), \n",
    "                                          trainable=not is_target)\n",
    "\n",
    "        if not is_target:\n",
    "            # Backpropagation\n",
    "            train_vars = tf.trainable_variables('actor/{}'.format(scope))\n",
    "\n",
    "            self._dQ_dA = tf.placeholder(tf.float32, (None, n_actions))\n",
    "            grads = tf.gradients(self._A, train_vars, -self._dQ_dA)\n",
    "            optimizer = tf.train.GradientDescentOptimizer(lr)\n",
    "            self._train_op = optimizer.apply_gradients(zip(grads, train_vars))            \n",
    "\n",
    "    def predict_a(self, states):\n",
    "        if len(states.shape) < len(self._S.shape):\n",
    "            states = np.expand_dims(states, axis=0)\n",
    "\n",
    "        return self._sess.run(self._A, {self._S: states})\n",
    "\n",
    "    def train(self, states, dq_da):\n",
    "        self._sess.run(self._train_op, {self._S: states, self._dQ_dA: dq_da})"
   ]
  },
  {
   "cell_type": "markdown",
   "metadata": {},
   "source": [
    "The `Critic` evaluates an action value function estimated by the `Actor`"
   ]
  },
  {
   "cell_type": "code",
   "execution_count": 3,
   "metadata": {},
   "outputs": [],
   "source": [
    "class Critic(object):\n",
    "    def __init__(self, sess, n_states, n_hidden, n_actions, lr=None, is_target=False, seed=None):\n",
    "        super().__init__()\n",
    "\n",
    "        self._sess = sess\n",
    "\n",
    "        scope = 'target' if is_target else 'primary'\n",
    "\n",
    "        with tf.variable_scope('critic'):\n",
    "            with tf.variable_scope(scope):\n",
    "                # Input layer\n",
    "                self._S = tf.placeholder(tf.float32, (None, n_states))\n",
    "                self._A = tf.placeholder(tf.float32, (None, n_actions))\n",
    "                X = tf.concat([self._S, self._A], 1)\n",
    "\n",
    "                # Hidden layer\n",
    "                h1 = tf.layers.dense(X, n_hidden, tf.nn.relu, \n",
    "                                     kernel_initializer=xavier_initializer(seed=seed), \n",
    "                                     trainable=not is_target)\n",
    "\n",
    "                # Output layer\n",
    "                self._Q = tf.layers.dense(h1, n_actions, \n",
    "                                          kernel_initializer=xavier_initializer(seed=seed), \n",
    "                                          trainable=not is_target)\n",
    "\n",
    "        if not is_target:\n",
    "            self._dQ_dA = tf.gradients(self._Q, self._A)[0]\n",
    "\n",
    "            # Backpropagation\n",
    "            self._T = tf.placeholder(tf.float32, (None, n_actions))\n",
    "            loss = tf.reduce_mean(tf.squared_difference(self._T, self._Q))\n",
    "            optimizer = tf.train.GradientDescentOptimizer(lr)\n",
    "            self._train_op = optimizer.minimize(loss)\n",
    "\n",
    "    def predict_q(self, states, actions):\n",
    "        if len(states.shape) < len(self._S.shape):\n",
    "            states = np.expand_dims(states, axis=0)\n",
    "\n",
    "        if len(actions.shape) < len(self._A.shape):\n",
    "            actions = np.expand_dims(actions, axis=0)\n",
    "\n",
    "        return self._sess.run(self._Q, {self._S: states, self._A: actions})\n",
    "\n",
    "    def dq_da(self, states, actions):\n",
    "        if len(states.shape) < len(self._S.shape):\n",
    "            states = np.expand_dims(states, axis=0)\n",
    "\n",
    "        if len(actions.shape) < len(self._A.shape):\n",
    "            actions = np.expand_dims(actions, axis=0)\n",
    "\n",
    "        dq_da = self._sess.run(self._dQ_dA, {self._S: states, self._A: actions})\n",
    "\n",
    "        return dq_da\n",
    "\n",
    "    def train(self, states, actions, targets):\n",
    "        self._sess.run(self._train_op, {self._S: states, self._A: actions, self._T: targets})"
   ]
  },
  {
   "cell_type": "markdown",
   "metadata": {},
   "source": [
    "The `Brain` manages both the actor and the critic along with their target networks"
   ]
  },
  {
   "cell_type": "code",
   "execution_count": 4,
   "metadata": {},
   "outputs": [],
   "source": [
    "# Helper function that updates target network's weights/biases\n",
    "def update_target_network(from_scope, to_scope, tau):\n",
    "    from_variables = tf.get_collection(tf.GraphKeys.GLOBAL_VARIABLES, scope=from_scope)\n",
    "    to_variables = tf.get_collection(tf.GraphKeys.GLOBAL_VARIABLES, scope=to_scope)\n",
    "\n",
    "    ops = [tf.assign(t, (1 - tau) * t + tau * p) for p, t in zip(from_variables, to_variables)]\n",
    "\n",
    "    return ops\n",
    "\n",
    "\n",
    "class DdpgBrain(Brain):\n",
    "    def __init__(self, sess, actor, target_actor, critic, target_critic, tau):\n",
    "        super().__init__()\n",
    "\n",
    "        self._sess = sess\n",
    "\n",
    "        self._actor = actor\n",
    "        self._target_actor = target_actor\n",
    "        self._critic = critic\n",
    "        self._target_critic = target_critic\n",
    "\n",
    "        update_actor = update_target_network('actor/primary', 'actor/target', tau)\n",
    "        update_critic = update_target_network('critic/primary', 'critic/target', tau)\n",
    "\n",
    "        self._update_target_ops = update_actor + update_critic\n",
    "\n",
    "    def predict_a(self, states, is_target=False, **kwargs):\n",
    "        brain = self._target_actor if is_target else self._actor\n",
    "\n",
    "        return brain.predict_a(states)\n",
    "\n",
    "    def predict_q(self, states, actions, is_target=False, **kwargs):\n",
    "        brain = self._target_critic if is_target else self._critic\n",
    "\n",
    "        return brain.predict_q(states, actions)\n",
    "\n",
    "    def train(self, states, actions, targets, **kwargs):\n",
    "        self._critic.train(states, actions, targets)\n",
    "\n",
    "        actions = self.predict_a(states, False)\n",
    "        dq_da = self._critic.dq_da(states, actions)\n",
    "\n",
    "        self._actor.train(states, dq_da)\n",
    "\n",
    "        self._sess.run(self._update_target_ops)\n",
    "\n",
    "    def __enter__(self):\n",
    "        self._sess.__enter__()\n",
    "\n",
    "        init = tf.global_variables_initializer()\n",
    "        self._sess.run(init)\n",
    "\n",
    "        return self\n",
    "\n",
    "    def __exit__(self, *args):\n",
    "        self._sess.__exit__(*args)"
   ]
  },
  {
   "cell_type": "markdown",
   "metadata": {},
   "source": [
    "Actions must be pre-processed before being passed to the environment"
   ]
  },
  {
   "cell_type": "code",
   "execution_count": 5,
   "metadata": {},
   "outputs": [],
   "source": [
    "class PendulumConverter(Converter):\n",
    "    def convert_action(self, a):\n",
    "        a = np.clip(a, -1, 1)\n",
    "        a *= 2\n",
    "\n",
    "        return a"
   ]
  },
  {
   "cell_type": "markdown",
   "metadata": {},
   "source": [
    "Training parameters"
   ]
  },
  {
   "cell_type": "code",
   "execution_count": 6,
   "metadata": {},
   "outputs": [],
   "source": [
    "# Seed\n",
    "seed = 123\n",
    "\n",
    "# Brain\n",
    "n_states = 3\n",
    "n_hidden = 256\n",
    "n_actions = 1\n",
    "lr = 0.001\n",
    "tau = 0.01\n",
    "\n",
    "# Action Selection Policy\n",
    "mu=0.0\n",
    "theta=0.05\n",
    "sigma=0.01\n",
    "\n",
    "# Replay Memory\n",
    "replay_memory_size = 100000\n",
    "replay_batch_size = 64\n",
    "\n",
    "# Agent\n",
    "n_episodes = 500\n",
    "gamma = 0.96"
   ]
  },
  {
   "cell_type": "markdown",
   "metadata": {},
   "source": [
    "Putting it all together"
   ]
  },
  {
   "cell_type": "code",
   "execution_count": 9,
   "metadata": {},
   "outputs": [],
   "source": [
    "env = gym.make('Pendulum-v0')\n",
    "env.seed(seed)\n",
    "\n",
    "tf.reset_default_graph()\n",
    "\n",
    "sess = tf.Session()\n",
    "\n",
    "actor = Actor(sess, n_states, n_hidden, n_actions, lr, False, seed)\n",
    "target_actor = Actor(sess, n_states, n_hidden, n_actions, None, True, seed)\n",
    "critic = Critic(sess, n_states, n_hidden, n_actions, lr, False, seed)\n",
    "target_critic = Critic(sess, n_states, n_hidden, n_actions, None, True, seed)\n",
    "brain = DdpgBrain(sess, actor, target_actor, critic, target_critic, tau)\n",
    "\n",
    "acting = OrnsteinUhlenbeckPolicy(n_actions, mu, theta, sigma)\n",
    "replay_memory = Memory(replay_memory_size, replay_batch_size)\n",
    "converter = PendulumConverter()\n",
    "\n",
    "agent = DdpgAgent(n_episodes, env, brain, acting, replay_memory, gamma, converter)\n",
    "agent.seed(seed)\n",
    "\n",
    "with brain:\n",
    "    rewards, _ = agent.run()"
   ]
  },
  {
   "cell_type": "code",
   "execution_count": 10,
   "metadata": {},
   "outputs": [
    {
     "data": {
      "text/plain": [
       "<matplotlib.collections.PathCollection at 0x136366d68>"
      ]
     },
     "execution_count": 10,
     "metadata": {},
     "output_type": "execute_result"
    },
    {
     "data": {
      "image/png": "[encoded data removed]",
      "text/plain": [
       "<Figure size 1152x432 with 1 Axes>"
      ]
     },
     "metadata": {
      "needs_background": "light"
     },
     "output_type": "display_data"
    }
   ],
   "source": [
    "plt.figure(figsize=(16, 6))\n",
    "plt.title('Pendulum - Deep Deterministic Policy Gradient')\n",
    "plt.xlabel('Episode')\n",
    "plt.ylabel('Reward')\n",
    "plt.scatter(range(len(rewards)), rewards, s=3)"
   ]
  },
  {
   "cell_type": "code",
   "execution_count": null,
   "metadata": {},
   "outputs": [],
   "source": []
  }
 ],
 "metadata": {
  "kernelspec": {
   "display_name": "Python 3",
   "language": "python",
   "name": "python3"
  },
  "language_info": {
   "codemirror_mode": {
    "name": "ipython",
    "version": 3
   },
   "file_extension": ".py",
   "mimetype": "text/x-python",
   "name": "python",
   "nbconvert_exporter": "python",
   "pygments_lexer": "ipython3",
   "version": "3.6.8"
  }
 },
 "nbformat": 4,
 "nbformat_minor": 2
}
