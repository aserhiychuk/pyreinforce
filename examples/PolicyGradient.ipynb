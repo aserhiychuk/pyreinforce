{
 "cells": [
  {
   "cell_type": "markdown",
   "metadata": {},
   "source": [
    "# Reinforcement Learning with Python: Policy Gradient"
   ]
  },
  {
   "cell_type": "markdown",
   "metadata": {},
   "source": [
    "In this notebook we will train a Policy Gradient agent to solve basic grid world environment. It was taken from [Arthur Juliani](https://github.com/awjuliani/DeepRL-Agents)'s course [Simple Reinforcement Learning with Tensorflow](https://medium.com/p/8438a3e2b8df):"
   ]
  },
  {
   "cell_type": "markdown",
   "metadata": {},
   "source": [
    "> In the environment the agent controls a blue square, and the goal is to navigate to the green squares (reward +1) while avoiding the red squares (reward -1). At the start of each episode all squares are randomly placed within a 5x5 grid-world. The agent has 50 steps to achieve as large a reward as possible."
   ]
  },
  {
   "cell_type": "markdown",
   "metadata": {},
   "source": [
    "![GridWorld](../assets/GridWorld-v0.gif)"
   ]
  },
  {
   "cell_type": "code",
   "execution_count": 1,
   "metadata": {},
   "outputs": [],
   "source": [
    "import sys\n",
    "sys.path.insert(0, '..')\n",
    "\n",
    "import numpy as np\n",
    "import tensorflow as tf\n",
    "import gym\n",
    "\n",
    "from skimage import img_as_float32\n",
    "\n",
    "import matplotlib.pyplot as plt\n",
    "%matplotlib inline\n",
    "\n",
    "from pyreinforce.brain import Brain\n",
    "from pyreinforce.acting import SoftmaxPolicy\n",
    "from pyreinforce.converter import Converter\n",
    "from pyreinforce import PolicyGradientAgent"
   ]
  },
  {
   "cell_type": "markdown",
   "metadata": {},
   "source": [
    "In order to be able to access the environment by invoking `gym.make()` method, we need to register it first"
   ]
  },
  {
   "cell_type": "code",
   "execution_count": 2,
   "metadata": {},
   "outputs": [],
   "source": [
    "gym.envs.register(\n",
    "    id='GridWorld-v0',\n",
    "    entry_point='examples.gridworld:GridWorldEnv',\n",
    "    kwargs={\n",
    "        'size': 5,\n",
    "        'max_episode_steps': 50\n",
    "    }\n",
    ")"
   ]
  },
  {
   "cell_type": "markdown",
   "metadata": {},
   "source": [
    "Our `Brain` consists of three convolutional layers and one dense layer"
   ]
  },
  {
   "cell_type": "code",
   "execution_count": 3,
   "metadata": {},
   "outputs": [],
   "source": [
    "# Helper function used to create convolutional layers\n",
    "def conv2d(inputs, weights, biases, strides, padding):\n",
    "    conv = tf.nn.conv2d(inputs, filter=weights, strides=strides, padding=padding)\n",
    "    conv += biases\n",
    "\n",
    "    return tf.nn.relu(conv)\n",
    "\n",
    "\n",
    "class PolicyGradientBrain(Brain):\n",
    "    def __init__(self, input_shape, n_outputs, lr, seed=None):\n",
    "        super().__init__()\n",
    "\n",
    "        tf.reset_default_graph()\n",
    "\n",
    "        xavier_init = tf.contrib.layers.xavier_initializer(seed=seed)\n",
    "\n",
    "        # Input layer\n",
    "        self._X = tf.placeholder(tf.float32, (None,) + tuple(input_shape))\n",
    "\n",
    "        # Convolutional layer 1\n",
    "        W1 = tf.Variable(xavier_init((7, 7, 3, 32)))\n",
    "        b1 = tf.Variable(xavier_init((32,)))\n",
    "        conv1 = conv2d(self._X, W1, b1, strides=(1, 4, 4, 1), padding='VALID')\n",
    "\n",
    "        # Convolutional layer 2\n",
    "        W2 = tf.Variable(xavier_init((5, 5, 32, 64)))\n",
    "        b2 = tf.Variable(xavier_init((64,)))\n",
    "        conv2 = conv2d(conv1, W2, b2, strides=(1, 2, 2, 1), padding='VALID')\n",
    "\n",
    "        # Convolutional layer 3\n",
    "        W3 = tf.Variable(xavier_init((3, 3, 64, 128)))\n",
    "        b3 = tf.Variable(xavier_init((128,)))\n",
    "        conv3 = conv2d(conv2, W3, b3, strides=(1, 1, 1, 1), padding='VALID')\n",
    "\n",
    "        # Flattened layer\n",
    "        flattened = tf.reshape(conv3, (-1, 6 * 6 * 128))\n",
    "\n",
    "        # Output layer\n",
    "        W4 = tf.Variable(xavier_init((6 * 6 * 128, n_outputs)))\n",
    "        b4 = tf.Variable(xavier_init((n_outputs,)))\n",
    "        self._P = tf.nn.softmax(tf.matmul(flattened, W4) + b4)\n",
    "\n",
    "        # Backpropagation\n",
    "        self._A = tf.placeholder(tf.int32, (None, 1))\n",
    "        A_one_hot = tf.one_hot(tf.reshape(self._A, (-1,)), n_outputs, dtype=tf.float32)\n",
    "        self._G = tf.placeholder(tf.float32, (None, 1))\n",
    "\n",
    "        score = tf.log(tf.reduce_sum(self._P * A_one_hot, axis=1, keepdims=True))\n",
    "        loss = -tf.reduce_mean(score * self._G)\n",
    "\n",
    "        optimizer = tf.train.AdamOptimizer(lr)\n",
    "        self._train_op = optimizer.minimize(loss)\n",
    "\n",
    "        self._sess = tf.Session()\n",
    "\n",
    "    def predict_policy(self, states, **kwargs):\n",
    "        if len(states.shape) < len(self._X.shape):\n",
    "            states = np.expand_dims(states, axis=0)\n",
    "\n",
    "        return self._sess.run(self._P, feed_dict={self._X: states})\n",
    "\n",
    "    def train(self, states, actions, returns):\n",
    "        self._sess.run(self._train_op, feed_dict={self._X: states, self._A: actions, self._G: returns})\n",
    "\n",
    "    def __enter__(self):\n",
    "        self._sess.__enter__()\n",
    "\n",
    "        init = tf.global_variables_initializer()\n",
    "        self._sess.run(init)\n",
    "\n",
    "        return self\n",
    "\n",
    "    def __exit__(self, *args):\n",
    "        self._sess.__exit__(*args)"
   ]
  },
  {
   "cell_type": "markdown",
   "metadata": {},
   "source": [
    "Let's pre-process states by extending abstract `Converter` class and overriding `convert_state` method"
   ]
  },
  {
   "cell_type": "code",
   "execution_count": 4,
   "metadata": {},
   "outputs": [],
   "source": [
    "class GridWorldConverter(Converter):\n",
    "    def convert_state(self, s):\n",
    "        return img_as_float32(s)"
   ]
  },
  {
   "cell_type": "markdown",
   "metadata": {},
   "source": [
    "Training parameters"
   ]
  },
  {
   "cell_type": "code",
   "execution_count": 7,
   "metadata": {},
   "outputs": [],
   "source": [
    "# Seed\n",
    "seed = 123\n",
    "\n",
    "# Brain\n",
    "input_shape = (84, 84, 3)\n",
    "n_outputs = 4\n",
    "lr = 0.00005\n",
    "\n",
    "# Agent\n",
    "n_episodes = 10000\n",
    "gamma = 0.7"
   ]
  },
  {
   "cell_type": "markdown",
   "metadata": {},
   "source": [
    "It's time to create and train the agent"
   ]
  },
  {
   "cell_type": "code",
   "execution_count": 8,
   "metadata": {},
   "outputs": [],
   "source": [
    "env = gym.make('GridWorld-v0')\n",
    "env.seed(seed)\n",
    "\n",
    "brain = PolicyGradientBrain(input_shape, n_outputs, lr, seed)\n",
    "acting = SoftmaxPolicy()\n",
    "converter = GridWorldConverter()\n",
    "agent = PolicyGradientAgent(n_episodes, env, brain, acting, gamma, converter)\n",
    "agent.seed(seed)\n",
    "\n",
    "with brain:\n",
    "    rewards, _ = agent.run()"
   ]
  },
  {
   "cell_type": "code",
   "execution_count": 9,
   "metadata": {},
   "outputs": [
    {
     "data": {
      "text/plain": [
       "<matplotlib.collections.PathCollection at 0x13f802c88>"
      ]
     },
     "execution_count": 9,
     "metadata": {},
     "output_type": "execute_result"
    },
    {
     "data": {
      "image/png": "[encoded data removed]",
      "text/plain": [
       "<Figure size 1152x432 with 1 Axes>"
      ]
     },
     "metadata": {
      "needs_background": "light"
     },
     "output_type": "display_data"
    }
   ],
   "source": [
    "plt.figure(figsize=(16, 6))\n",
    "plt.title('Grid World - Policy Gradient')\n",
    "plt.xlabel('Episode')\n",
    "plt.ylabel('Reward')\n",
    "plt.scatter(range(len(rewards)), rewards, s=3)"
   ]
  },
  {
   "cell_type": "code",
   "execution_count": 11,
   "metadata": {},
   "outputs": [
    {
     "data": {
      "text/plain": [
       "<matplotlib.collections.PathCollection at 0x13f8ca208>"
      ]
     },
     "execution_count": 11,
     "metadata": {},
     "output_type": "execute_result"
    },
    {
     "data": {
      "image/png": "[encoded data removed]",
      "text/plain": [
       "<Figure size 1152x432 with 1 Axes>"
      ]
     },
     "metadata": {
      "needs_background": "light"
     },
     "output_type": "display_data"
    }
   ],
   "source": [
    "plt.figure(figsize=(16, 6))\n",
    "plt.title('Mean reward over 100 episodes')\n",
    "plt.xlabel('Episode')\n",
    "plt.ylabel('Reward')\n",
    "plt.scatter(range(0, 10000, 100), rewards.reshape(100, 100).mean(axis=1), s=3)"
   ]
  },
  {
   "cell_type": "code",
   "execution_count": null,
   "metadata": {},
   "outputs": [],
   "source": []
  }
 ],
 "metadata": {
  "kernelspec": {
   "display_name": "Python 3",
   "language": "python",
   "name": "python3"
  },
  "language_info": {
   "codemirror_mode": {
    "name": "ipython",
    "version": 3
   },
   "file_extension": ".py",
   "mimetype": "text/x-python",
   "name": "python",
   "nbconvert_exporter": "python",
   "pygments_lexer": "ipython3",
   "version": "3.6.8"
  }
 },
 "nbformat": 4,
 "nbformat_minor": 2
}
