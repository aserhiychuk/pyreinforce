{
 "cells": [
  {
   "cell_type": "markdown",
   "metadata": {},
   "source": [
    "# Playing Atari games with DQN agent"
   ]
  },
  {
   "cell_type": "markdown",
   "metadata": {},
   "source": [
    "In this tutorial we will show how to create a Reinforcement Learning agent and teach it to play a number of [Atari](https://gym.openai.com/envs/#atari) games."
   ]
  },
  {
   "cell_type": "markdown",
   "metadata": {},
   "source": [
    "![Atari](../assets/AtariGames.png)"
   ]
  },
  {
   "cell_type": "markdown",
   "metadata": {},
   "source": [
    "- [Breakout](#Breakout)\n",
    "- [Pong](#Pong)\n",
    "- [Space Invaders](#Space-Invaders)"
   ]
  },
  {
   "cell_type": "code",
   "execution_count": 1,
   "metadata": {},
   "outputs": [],
   "source": [
    "import sys\n",
    "sys.path.insert(0, '..')\n",
    "\n",
    "from collections import deque\n",
    "\n",
    "import numpy as np\n",
    "import tensorflow as tf\n",
    "from tensorflow.keras import layers\n",
    "import gym\n",
    "\n",
    "from skimage.color import rgb2gray\n",
    "from skimage.transform import resize\n",
    "from skimage import img_as_ubyte\n",
    "\n",
    "import matplotlib.pyplot as plt\n",
    "%matplotlib inline\n",
    "\n",
    "from pyreinforce.brain import Brain\n",
    "from pyreinforce.acting import DecayingEpsGreedyPolicy\n",
    "from pyreinforce.memory import EpisodicMemory\n",
    "from pyreinforce.converter import Converter\n",
    "from pyreinforce import TdAgent"
   ]
  },
  {
   "cell_type": "markdown",
   "metadata": {},
   "source": [
    "## The Big Picture"
   ]
  },
  {
   "cell_type": "markdown",
   "metadata": {},
   "source": [
    "![The Big Picture](../assets/AtariTheBigPicture.svg)"
   ]
  },
  {
   "cell_type": "markdown",
   "metadata": {},
   "source": [
    "### Converter"
   ]
  },
  {
   "cell_type": "markdown",
   "metadata": {},
   "source": [
    "- Converts raw RGB images to gray-scale and down-samples them\n",
    "- Clips and adjusts rewards\n",
    "- Treats lost life as end of episode"
   ]
  },
  {
   "cell_type": "markdown",
   "metadata": {},
   "source": [
    "Atari environment returns frames in a form of 210x160 RGB images. Before feeding them into the neural network we will apply a preprocessing step in order to reduce the input dimentionality. Raw frames are cropped to roughly capture the 176x160 playing area. This output is then converted to gray-scale and resized to a 84x84 image."
   ]
  },
  {
   "cell_type": "markdown",
   "metadata": {},
   "source": [
    "It was found that clipping the rewards between -1 and 1 makes training more stable and results in faster convergence."
   ]
  },
  {
   "cell_type": "markdown",
   "metadata": {},
   "source": [
    "On top of rewards clipping, we will also assign a small negative reward for all actions other than a `NOOP` one. This will make the agent to be less noisy."
   ]
  },
  {
   "cell_type": "markdown",
   "metadata": {},
   "source": [
    "Many Atari games have a concept of lives. For example, in Breakout we start off with 5 lives and keep playing until we fail to catch the ball, which reduces the number of lives by 1. When this happens, there is no negative reward which makes it very difficult for the agent to learn that losing a life is actually a bad thing. In order to help it learn faster, we will treat losing a life as the end of the episode by setting `is_terminal` flag to `True`."
   ]
  },
  {
   "cell_type": "code",
   "execution_count": 2,
   "metadata": {},
   "outputs": [],
   "source": [
    "class AtariConverter(Converter):\n",
    "    \"\"\"Preprocess state, reward, and terminal flag.\"\"\"\n",
    "\n",
    "    def __init__(self):\n",
    "        super().__init__()\n",
    "\n",
    "        self._n_lives = None\n",
    "\n",
    "    def convert_state(self, s, info=None):\n",
    "        \"\"\"Preprocess raw frame.\n",
    "\n",
    "        Parameters\n",
    "        ----------\n",
    "        s : array\n",
    "            Raw (210, 160, 3) frame obtained from the environment.\n",
    "        info : dict, optional\n",
    "            Extra information.\n",
    "\n",
    "        Returns\n",
    "        -------\n",
    "        array\n",
    "            Down-sampled gray-scaled (84, 84) frame\n",
    "            ready to be fed into the neural network.\n",
    "        \"\"\"\n",
    "        # Capture playing area\n",
    "        s = s[34:34 + 160, :, :]\n",
    "        # Convert to gray-scale\n",
    "        s = rgb2gray(s)\n",
    "        # Down-size using Nearest-neighbor\n",
    "        s = resize(s, (84, 84), order=0)\n",
    "        # Reduce memory footprint\n",
    "        s = img_as_ubyte(s)\n",
    "\n",
    "        return s\n",
    "\n",
    "    def convert_experience(self, experience, info=None):\n",
    "        \"\"\"Preprocess reward and terminal flag.\n",
    "\n",
    "        Parameters\n",
    "        ----------\n",
    "        experience : tuple\n",
    "            Tuple (state, action, reward, next_state, terminal_flag).\n",
    "\n",
    "        Returns\n",
    "        -------\n",
    "        tuple\n",
    "            Preprocessed tuple (state, action, reward, next_state, terminal_flag),\n",
    "            ready to be stored in experience replay memory.\n",
    "        \"\"\"\n",
    "        s, a, r, s1, is_terminal = experience\n",
    "\n",
    "        # Reward clipping\n",
    "        r = np.clip(r, -1, 1)\n",
    "\n",
    "        # Make agent less noisy\n",
    "        if a > 0:\n",
    "            r -= 0.01\n",
    "\n",
    "        # Keep track of number of lives\n",
    "        n_lives = info['ale.lives']\n",
    "\n",
    "        if self._n_lives is None:\n",
    "            # First episode\n",
    "            self._n_lives = n_lives\n",
    "        elif self._n_lives > n_lives:\n",
    "            # Lost life\n",
    "            self._n_lives = n_lives\n",
    "\n",
    "            # Treat it as end of episode\n",
    "            is_terminal = True\n",
    "        elif self._n_lives < n_lives:\n",
    "            # New episode\n",
    "            self._n_lives = n_lives\n",
    "\n",
    "        return s, a, r, s1, is_terminal"
   ]
  },
  {
   "cell_type": "markdown",
   "metadata": {},
   "source": [
    "### Brain"
   ]
  },
  {
   "cell_type": "markdown",
   "metadata": {},
   "source": [
    "- Holds convolutional neural network that extracts features from raw pixels\n",
    "- Implements target network that is used to generate TD targets\n",
    "- Implements Dueling DQN\n",
    "- Keeps track of previous frames"
   ]
  },
  {
   "cell_type": "markdown",
   "metadata": {},
   "source": [
    "The first convolutional layer has 32 8x8 filters with stride 4, the second 64 4x4 filters with stride 2, the third 64 3x3 filter with stride 1, and the final one has `n_hidden` 1x1 filters with strade 1."
   ]
  },
  {
   "cell_type": "markdown",
   "metadata": {},
   "source": [
    "Target network is implemented as another instance of `AtariBrain` that gets passed in as a parameter to the primary brain's constructor. When predicting the Q-values, the brain decides which network (primary vs. target) to use depending on the context."
   ]
  },
  {
   "cell_type": "markdown",
   "metadata": {},
   "source": [
    "The brain also keeps track of previous frames. When predicting the Q-values for a given frame while playing, it stitches 3 previous and the current frame together before feeding them to the neural network."
   ]
  },
  {
   "cell_type": "code",
   "execution_count": 3,
   "metadata": {},
   "outputs": [],
   "source": [
    "class AtariBrain(Brain):\n",
    "    \"\"\"Compute Q-values given states, and perform a training step.\"\"\"\n",
    "\n",
    "    def __init__(self, n_hidden, n_outputs, batch_size, n_time_steps,\n",
    "                 lr=None, target=None, target_update_freq=None):\n",
    "        \"\"\"\n",
    "        Parameters\n",
    "        ----------\n",
    "        n_hidden : int\n",
    "            Number of filters in the final convolutional layer.\n",
    "        n_outputs : int\n",
    "            Number of actions.\n",
    "        batch_size : int\n",
    "            Batch size.\n",
    "        n_time_steps : int\n",
    "            Number of consecutive frames.\n",
    "        lr : float, optional\n",
    "            Learning rate.\n",
    "        target : brain, optional\n",
    "            Target network.\n",
    "        target_update_freq : int, optional\n",
    "            Number of steps between target network updates.\n",
    "        \"\"\"\n",
    "        super().__init__()\n",
    "\n",
    "        self._input_shape = (84, 84)\n",
    "        self._n_hidden = n_hidden\n",
    "        self._n_outputs = n_outputs\n",
    "\n",
    "        self._batch_size = batch_size\n",
    "        self._n_time_steps = n_time_steps\n",
    "\n",
    "        self._target = target\n",
    "        self._target_update_freq = target_update_freq\n",
    "\n",
    "        # Input layer. Receives preprocessed frames\n",
    "        S = tf.keras.Input(shape=self._input_shape + (self._n_time_steps,), dtype=tf.uint8)\n",
    "        S_scaled = layers.Lambda(lambda x: tf.divide(x, 255))(S)\n",
    "\n",
    "        # Last `n_time_steps` consecutive frames\n",
    "        self._prev_states = deque(maxlen=self._n_time_steps)\n",
    "\n",
    "        init = tf.variance_scaling_initializer(2)\n",
    "\n",
    "        # Convolutional layers\n",
    "        conv1 = layers.Conv2D(32, kernel_size=(8, 8), strides=(4, 4), \n",
    "                              padding='valid', activation='relu', use_bias=False, \n",
    "                              data_format='channels_last', kernel_initializer=init)(S_scaled)\n",
    "\n",
    "        conv2 = layers.Conv2D(64, kernel_size=(4, 4), strides=(2, 2), \n",
    "                              padding='valid', activation='relu', use_bias=False, \n",
    "                              data_format='channels_last', kernel_initializer=init)(conv1)\n",
    "\n",
    "        conv3 = layers.Conv2D(64, kernel_size=(3, 3), strides=(1, 1),\n",
    "                              padding='valid', activation='relu', use_bias=False, \n",
    "                              data_format='channels_last', kernel_initializer=init)(conv2)\n",
    "\n",
    "        conv4 = layers.Conv2D(self._n_hidden, kernel_size=(7, 7), strides=(1, 1),\n",
    "                              padding='valid', activation='relu', use_bias=False, \n",
    "                              data_format='channels_last', kernel_initializer=init)(conv3)\n",
    "\n",
    "        flat = layers.Flatten()(conv4)\n",
    "\n",
    "        # Dueling DQN\n",
    "        Val, Adv = layers.Lambda(lambda x: tf.split(x, 2, -1))(flat)\n",
    "        Val = layers.Dense(1, kernel_initializer=init)(Val)\n",
    "        Adv = layers.Dense(self._n_outputs, kernel_initializer=init)(Adv)\n",
    "        Adv_mean = layers.Lambda(lambda x: tf.reduce_mean(x, axis=-1, keepdims=True))(Adv)\n",
    "        Q = layers.Add()([Val, layers.Subtract()([Adv, Adv_mean])])\n",
    "\n",
    "        self._Q = tf.keras.Model(inputs=S, outputs=Q)\n",
    "\n",
    "        if self._target:\n",
    "            # Backpropagation (primary network only)\n",
    "            A = tf.keras.Input(shape=(), dtype=tf.uint8)\n",
    "            A_one_hot = tf.one_hot(A, self._n_outputs, axis=-1)\n",
    "            Qa = tf.reduce_sum(tf.multiply(Q, A_one_hot), axis=-1, keepdims=True)\n",
    "\n",
    "            self._model = tf.keras.Model(inputs=[S, A], outputs=Qa)\n",
    "\n",
    "            _loss = tf.keras.losses.Huber()\n",
    "            loss = lambda labels, predictions: tf.reduce_mean(_loss(labels, predictions))\n",
    "            optimizer = tf.keras.optimizers.Adam(lr)\n",
    "            self._model.compile(optimizer=optimizer, loss=loss)\n",
    "\n",
    "            # Synchronize target network\n",
    "            self._update_target()\n",
    "\n",
    "    def predict_q(self, states, **kwargs):\n",
    "        \"\"\"Predict Q-values for each state-action pair.\n",
    "\n",
    "        Parameters\n",
    "        ----------\n",
    "        states : array\n",
    "            Single frame or batch of frames.\n",
    "        **kwargs\n",
    "            Extra arguments that provide more context.\n",
    "\n",
    "            cur_step : int, optional\n",
    "                Current step within episode.\n",
    "            target : bool, optional\n",
    "                Flag that indicates which network to use.\n",
    "\n",
    "        Returns\n",
    "        -------\n",
    "        array\n",
    "            Q-values for each state-action pair in the batch.\n",
    "        \"\"\"\n",
    "        if states.ndim < len(self._input_shape) + 1:\n",
    "            states = np.expand_dims(states, axis=0)\n",
    "\n",
    "        cur_step = kwargs.get('cur_step', None)\n",
    "\n",
    "        if cur_step is None:\n",
    "            # Training\n",
    "            if kwargs.get('target', False) and self._target:\n",
    "                return self._target.predict_q(states, **kwargs)\n",
    "\n",
    "            # Move time dimention to the end\n",
    "            states = np.transpose(states, axes=(0, 2, 3, 1))\n",
    "\n",
    "            q = self._Q.predict_on_batch(states)\n",
    "\n",
    "            return q\n",
    "\n",
    "        # Acting\n",
    "        if len(self._prev_states) < self._n_time_steps:\n",
    "            # Duplicate the first frame\n",
    "            # at the beginning of the episode\n",
    "            for i in range(self._n_time_steps - 1):\n",
    "                self._prev_states.append(states[0])\n",
    "\n",
    "        self._prev_states.append(states[0])\n",
    "\n",
    "        # Form a single input from last 4 consequtive frames\n",
    "        states = np.stack(self._prev_states, axis=-1)\n",
    "        states = np.expand_dims(states, axis=0)\n",
    "\n",
    "        q = self._Q.predict_on_batch(states)\n",
    "\n",
    "        return q\n",
    "\n",
    "    def train(self, states, actions, targets, **kwargs):\n",
    "        \"\"\"Perform a training step.\n",
    "\n",
    "        Parameters\n",
    "        ----------\n",
    "        states : array\n",
    "            Batch of states.\n",
    "        actions : array\n",
    "            Batch of actions taken in each state.\n",
    "        targets : array\n",
    "            TD targets.\n",
    "        **kwargs\n",
    "            Extra arguments that provide more context.\n",
    "\n",
    "            global_step : int\n",
    "                Global step across all episodes.\n",
    "        \"\"\"\n",
    "        # Move time dimention to the end\n",
    "        states = np.transpose(states, axes=(0, 2, 3, 1))\n",
    "\n",
    "        self._model.fit([states, actions], targets, \n",
    "                        batch_size=self._batch_size,\n",
    "                        epochs=1, verbose=0)\n",
    "\n",
    "        global_step = kwargs['global_step']\n",
    "\n",
    "        # Periodically synchronize target network\n",
    "        if global_step % self._target_update_freq == 0:\n",
    "            self._update_target()\n",
    "\n",
    "    def reset_prev_states(self):\n",
    "        \"\"\"Clear history of previous states.\"\"\"\n",
    "        self._prev_states.clear()\n",
    "\n",
    "    def _update_target(self):\n",
    "        \"\"\"Synchronize target network with the primary one.\"\"\"\n",
    "        primary_weights = self.get_weights()\n",
    "        self._target.set_weights(primary_weights)\n",
    "\n",
    "    def get_weights(self):\n",
    "        \"\"\"Get Q-network's weights.\n",
    "\n",
    "        Returns\n",
    "        -------\n",
    "        The Q-network's weights.\n",
    "        \"\"\"\n",
    "        # TODO use Q instead of model\n",
    "        return self._Q.get_weights()\n",
    "\n",
    "    def set_weights(self, weights):\n",
    "        \"\"\"Update this Q-network's weights.\n",
    "\n",
    "        Parameters\n",
    "        ----------\n",
    "        weights\n",
    "            The new weights.\n",
    "        \"\"\"\n",
    "        # TODO use Q instead of model\n",
    "        self._Q.set_weights(weights)"
   ]
  },
  {
   "cell_type": "markdown",
   "metadata": {},
   "source": [
    "### Agent"
   ]
  },
  {
   "cell_type": "markdown",
   "metadata": {},
   "source": [
    "- Keeps track of remaining lives\n",
    "- Implements Double DQN"
   ]
  },
  {
   "cell_type": "markdown",
   "metadata": {},
   "source": [
    "The agent keeps track of number of lives, and provides a hook that allows to react to an event of losing a life. When this occurs, we store a terminal flag in the replay memory. For this purpose, we need to flush it even though the episode might not have finished."
   ]
  },
  {
   "cell_type": "markdown",
   "metadata": {},
   "source": [
    "In order to add Double DQN support, we override `_get_td_targets()` method, and use our primary network to chose an action, and our target network to generate the target Q-value for that action."
   ]
  },
  {
   "cell_type": "code",
   "execution_count": 4,
   "metadata": {},
   "outputs": [],
   "source": [
    "class AtariAgent(TdAgent):\n",
    "    \"\"\"The agent keeps track of remaining lives and allows to react when one is lost.\n",
    "\n",
    "    Also implements Double DQN extension that makes learning more stable.\n",
    "    \"\"\"\n",
    "\n",
    "    def __init__(self, n_episodes, env, brain, acting, replay_memory,\n",
    "                 gamma, converter=None, train_freq=1, callback=None):\n",
    "        \"\"\"\n",
    "        Parameters\n",
    "        ----------\n",
    "        n_episodes : int\n",
    "            Number of episodes to train the agent for.\n",
    "        env : obj\n",
    "            Environment.\n",
    "        brain : Brain\n",
    "            DQN.\n",
    "        acting : ActingPolicy\n",
    "            Action selection policy.\n",
    "        replay_memory : Memory\n",
    "            Experience replay memory.\n",
    "        gamma : float\n",
    "            Discount factor, must be between 0 and 1.\n",
    "        converter : Converter, optional\n",
    "            If specified, allows to pre/post process state, action, or experience.\n",
    "        train_freq : int, optional\n",
    "            Training frequency.\n",
    "        callback : callable, optional\n",
    "            If specified, is called after each episode\n",
    "            with the following parameters:\n",
    "\n",
    "            cur_episode : int\n",
    "                Current episode number.\n",
    "            reward : float\n",
    "                Cumulative reward obtained in current episode.\n",
    "        \"\"\"\n",
    "        super().__init__(n_episodes, env, brain, acting, replay_memory, \n",
    "                         gamma, converter, train_freq, callback)\n",
    "\n",
    "        self._n_lives = None\n",
    "\n",
    "    def _reset(self):\n",
    "        \"\"\"Reset number of remaining lives.\n",
    "\n",
    "        Returns\n",
    "        -------\n",
    "        array\n",
    "            Initial state.\n",
    "        \"\"\"\n",
    "        s = super()._reset()\n",
    "\n",
    "        self._n_lives = None\n",
    "        self._brain.reset_prev_states()\n",
    "\n",
    "        return s\n",
    "\n",
    "    def _step(self, a):\n",
    "        \"\"\"Keep track of remaining lives.\n",
    "\n",
    "        Parameters\n",
    "        ----------\n",
    "        a : int\n",
    "            Action to be performed.\n",
    "\n",
    "        Returns\n",
    "        -------\n",
    "        array\n",
    "            Next frame after performing action `a`.\n",
    "        float\n",
    "            Reward achieved by action `a`.\n",
    "        bool\n",
    "            Flag that indicates if the episode has terminated.\n",
    "        dict\n",
    "            Holds number of remaining lives.\n",
    "        \"\"\"\n",
    "        s1, r, done, info = super()._step(a)\n",
    "\n",
    "        n_lives = info['ale.lives']\n",
    "\n",
    "        if self._n_lives is None:\n",
    "            # New episode\n",
    "            self._n_lives = n_lives\n",
    "        elif self._n_lives > n_lives:\n",
    "            # Lost life\n",
    "            self._n_lives = n_lives\n",
    "\n",
    "            self._on_life_lost(n_lives)\n",
    "\n",
    "        return s1, r, done, info\n",
    "\n",
    "    def _on_life_lost(self, n_lives):\n",
    "        \"\"\"Provide a hook to handle lost life.\n",
    "\n",
    "        Parameters\n",
    "        ----------\n",
    "        n_lives : int\n",
    "            Number of remaining lives.\n",
    "        \"\"\"\n",
    "        self._brain.reset_prev_states()\n",
    "\n",
    "    def _observe(self, experience):\n",
    "        \"\"\"Flush replay memory when terminal flag is `True`.\n",
    "\n",
    "        Parameters\n",
    "        ----------\n",
    "        experience : tuple\n",
    "            Tuple of (`s`, `a`, `r`, `s1`, `terminal_flag`).\n",
    "        \"\"\"\n",
    "        super()._observe(experience)\n",
    "\n",
    "        _, _, _, _, is_terminal = experience\n",
    "\n",
    "        if is_terminal:\n",
    "            # Flush replay memory when losing life\n",
    "            self._replay_memory.flush()\n",
    "\n",
    "    def _get_td_targets(self, r, s1, s1_mask):\n",
    "        \"\"\"Compute TD targets using Double DQN.\n",
    "\n",
    "        Parameters\n",
    "        ----------\n",
    "        r : array\n",
    "            Rewards.\n",
    "        s1 : array\n",
    "            Next states.\n",
    "        s1_mask : array\n",
    "            Next states masks.\n",
    "\n",
    "        Returns\n",
    "        -------\n",
    "        array\n",
    "            TD targets.\n",
    "        \"\"\"\n",
    "        # Primary network chooses an action\n",
    "        q1 = self._predict_q(s1)\n",
    "        best_a = np.argmax(q1, axis=1)\n",
    "        # Target network predicts Q-value for that action\n",
    "        q1 = self._predict_q(s1, target=True)\n",
    "        ind = range(best_a.shape[0])\n",
    "        double_q = q1[ind, best_a]\n",
    "\n",
    "        target = r + s1_mask * self._gamma * double_q\n",
    "\n",
    "        return target"
   ]
  },
  {
   "cell_type": "markdown",
   "metadata": {},
   "source": [
    "## Breakout"
   ]
  },
  {
   "cell_type": "markdown",
   "metadata": {},
   "source": [
    "> In Breakout, a layer of bricks lines the top third of the screen and the goal is to destroy them all. A ball moves straight around the screen, bouncing off the top and two sides of the screen. When a brick is hit, the ball bounces back and the brick is destroyed. The player loses a turn when the ball touches the bottom of the screen; to prevent this from happening, the player has a horizontally movable paddle to bounce the ball upward, keeping it in play\n",
    "\n",
    "_Description from_ [Wikipedia](https://en.wikipedia.org/wiki/Breakout_%28video_game%29)"
   ]
  },
  {
   "cell_type": "markdown",
   "metadata": {},
   "source": [
    "![Breakout](../assets/Breakout_160x210.gif)"
   ]
  },
  {
   "cell_type": "markdown",
   "metadata": {},
   "source": [
    "### Action space"
   ]
  },
  {
   "cell_type": "markdown",
   "metadata": {},
   "source": [
    "There are 4 actions in Breakout:"
   ]
  },
  {
   "cell_type": "code",
   "execution_count": 5,
   "metadata": {},
   "outputs": [
    {
     "data": {
      "text/plain": [
       "['NOOP', 'FIRE', 'RIGHT', 'LEFT']"
      ]
     },
     "execution_count": 5,
     "metadata": {},
     "output_type": "execute_result"
    }
   ],
   "source": [
    "env = gym.make('BreakoutDeterministic-v4')\n",
    "env.unwrapped.get_action_meanings()"
   ]
  },
  {
   "cell_type": "markdown",
   "metadata": {},
   "source": [
    "In order to start a game or resume it after losing life, we need to `FIRE`. Once the ball is in the game, `FIRE` does nothing. Thus, there is not much value in making the agent learn when to `FIRE`, so we will rather do it manually, whenever needed:"
   ]
  },
  {
   "cell_type": "code",
   "execution_count": 6,
   "metadata": {},
   "outputs": [],
   "source": [
    "class BreakoutAgent(AtariAgent):\n",
    "    def __init__(self, n_episodes, env, brain, acting, replay_memory,\n",
    "                 gamma, converter=None, train_freq=1, callback=None):\n",
    "        super().__init__(n_episodes, env, brain, acting, replay_memory,\n",
    "                         gamma, converter, train_freq, callback)\n",
    "\n",
    "        self._fire_pending = False\n",
    "\n",
    "    def _reset(self):\n",
    "        s = super()._reset()\n",
    "\n",
    "        self._fire_pending = False\n",
    "\n",
    "        # FIRE\n",
    "        s, _, _, _ = self._step(1)\n",
    "\n",
    "        return s\n",
    "\n",
    "    def _step(self, a):\n",
    "        if self._fire_pending:\n",
    "            # FIRE\n",
    "            a = 1\n",
    "\n",
    "            self._fire_pending = False\n",
    "\n",
    "        s1, r, done, info = super()._step(a)\n",
    "\n",
    "        return s1, r, done, info\n",
    "\n",
    "    def _on_life_lost(self, n_lives):\n",
    "        super()._on_life_lost(n_lives)\n",
    "\n",
    "        self._fire_pending = True"
   ]
  },
  {
   "cell_type": "markdown",
   "metadata": {},
   "source": [
    "The brain controls remaining 3 actions: `NOOP`, `RIGHT`, and `LEFT` (with indices 0, 1, and 2 respectively). But these actions have slightly different indices in the environment, so we have to preprocess them before taking a step:"
   ]
  },
  {
   "cell_type": "code",
   "execution_count": 7,
   "metadata": {},
   "outputs": [],
   "source": [
    "class BreakoutConverter(AtariConverter):\n",
    "    def convert_action(self, a):\n",
    "        if a == 0:\n",
    "            # NOOP\n",
    "            return a\n",
    "\n",
    "        # RIGHT, LEFT\n",
    "        return a + 1"
   ]
  },
  {
   "cell_type": "markdown",
   "metadata": {},
   "source": [
    "### Training parameters"
   ]
  },
  {
   "cell_type": "code",
   "execution_count": 8,
   "metadata": {},
   "outputs": [],
   "source": [
    "# Environment\n",
    "env_name = 'BreakoutDeterministic-v4'\n",
    "\n",
    "# Brain\n",
    "n_hidden = 1024\n",
    "n_outputs = 3\n",
    "lr = 0.00005\n",
    "target_update_freq = 10000\n",
    "\n",
    "# Action Selection Policy\n",
    "eps_start = 1.0\n",
    "eps_end = 0.01\n",
    "eps_decay = 3\n",
    "\n",
    "# Experience Replay Memory\n",
    "replay_memory_size = 1000000\n",
    "replay_batch_size = 32\n",
    "replay_time_steps = 4\n",
    "\n",
    "# Agent\n",
    "n_episodes = 7000\n",
    "gamma = 0.99\n",
    "train_freq = 4"
   ]
  },
  {
   "cell_type": "markdown",
   "metadata": {},
   "source": [
    "### Learning"
   ]
  },
  {
   "cell_type": "code",
   "execution_count": 9,
   "metadata": {},
   "outputs": [],
   "source": [
    "env = gym.make(env_name)\n",
    "target_brain = AtariBrain(n_hidden, n_outputs, replay_batch_size, replay_time_steps)\n",
    "brain = AtariBrain(n_hidden, n_outputs, replay_batch_size, replay_time_steps,\n",
    "                   lr, target_brain, target_update_freq)\n",
    "acting = DecayingEpsGreedyPolicy(eps_start, eps_end, eps_decay)\n",
    "replay_memory = EpisodicMemory(replay_memory_size, replay_batch_size, replay_time_steps)\n",
    "converter = BreakoutConverter()\n",
    "\n",
    "agent = BreakoutAgent(n_episodes, env, brain, acting, replay_memory,\n",
    "                      gamma, converter, train_freq)\n",
    "\n",
    "rewards, _ = agent.run()"
   ]
  },
  {
   "cell_type": "code",
   "execution_count": 10,
   "metadata": {},
   "outputs": [
    {
     "data": {
      "text/plain": [
       "<matplotlib.collections.PathCollection at 0x1432fcba8>"
      ]
     },
     "execution_count": 10,
     "metadata": {},
     "output_type": "execute_result"
    },
    {
     "data": {
      "image/png": "[encoded data removed]",
      "text/plain": [
       "<Figure size 1152x432 with 1 Axes>"
      ]
     },
     "metadata": {
      "needs_background": "light"
     },
     "output_type": "display_data"
    }
   ],
   "source": [
    "plt.figure(figsize=(16, 6))\n",
    "plt.title('Breakout - DQN')\n",
    "plt.xlabel('Episode')\n",
    "plt.ylabel('Reward')\n",
    "plt.scatter(range(len(rewards)), rewards, s=3)"
   ]
  },
  {
   "cell_type": "markdown",
   "metadata": {},
   "source": [
    "## Pong"
   ]
  },
  {
   "cell_type": "markdown",
   "metadata": {},
   "source": [
    "> Pong is a two-dimensional sports game that simulates table tennis. The player controls an in-game paddle by moving it vertically across the left or right side of the screen. They can compete against another player controlling a second paddle on the opposing side. Players use the paddles to hit a ball back and forth. The goal is for each player to reach eleven points before the opponent; points are earned when one fails to return the ball to the other.\n",
    "\n",
    "_Description from_ [Wikipedia](https://en.wikipedia.org/wiki/Pong)"
   ]
  },
  {
   "cell_type": "markdown",
   "metadata": {},
   "source": [
    "![Pong](../assets/Pong_160x210.gif)"
   ]
  },
  {
   "cell_type": "markdown",
   "metadata": {},
   "source": [
    "### Action space"
   ]
  },
  {
   "cell_type": "markdown",
   "metadata": {},
   "source": [
    "Pong has 6 actions:"
   ]
  },
  {
   "cell_type": "code",
   "execution_count": 11,
   "metadata": {},
   "outputs": [
    {
     "data": {
      "text/plain": [
       "['NOOP', 'FIRE', 'RIGHT', 'LEFT', 'RIGHTFIRE', 'LEFTFIRE']"
      ]
     },
     "execution_count": 11,
     "metadata": {},
     "output_type": "execute_result"
    }
   ],
   "source": [
    "env = gym.make('PongDeterministic-v4')\n",
    "env.unwrapped.get_action_meanings()"
   ]
  },
  {
   "cell_type": "markdown",
   "metadata": {},
   "source": [
    "Let's make our agent's life easier by using only 3 of them: `NOOP`, `RIGHT`, and `LEFT`. Similarly to Breakout, we have to preprocess actions because we skip `FIRE`:"
   ]
  },
  {
   "cell_type": "code",
   "execution_count": 12,
   "metadata": {},
   "outputs": [],
   "source": [
    "class PongConverter(AtariConverter):\n",
    "    def convert_action(self, a):\n",
    "        if a == 0:\n",
    "            # NOOP\n",
    "            return a\n",
    "\n",
    "        # RIGHT, LEFT\n",
    "        return a + 1"
   ]
  },
  {
   "cell_type": "markdown",
   "metadata": {},
   "source": [
    "### Training parameters"
   ]
  },
  {
   "cell_type": "code",
   "execution_count": 13,
   "metadata": {},
   "outputs": [],
   "source": [
    "# Environment\n",
    "env_name = 'PongDeterministic-v4'\n",
    "\n",
    "# Brain\n",
    "n_hidden = 512\n",
    "n_outputs = 3\n",
    "lr = 0.0001\n",
    "target_update_freq = 5000\n",
    "\n",
    "# Action Selection Policy\n",
    "start_eps = 1.0\n",
    "end_eps = 0.01\n",
    "eps_decay = 2\n",
    "\n",
    "# Experience Replay Memory\n",
    "replay_memory_size = 1000000\n",
    "replay_batch_size = 32\n",
    "replay_time_steps = 4\n",
    "\n",
    "# Agent\n",
    "n_episodes = 500\n",
    "gamma = 0.99\n",
    "train_freq = 4"
   ]
  },
  {
   "cell_type": "code",
   "execution_count": 14,
   "metadata": {},
   "outputs": [],
   "source": [
    "env_name = 'PongDeterministic-v4'\n",
    "\n",
    "n_hidden = 512\n",
    "n_outputs = 3\n",
    "lr = 0.00005\n",
    "target_update_freq = 5000\n",
    "\n",
    "start_eps = 1.0\n",
    "end_eps = 0.01\n",
    "eps_decay = 4\n",
    "\n",
    "replay_memory_size = 1000000\n",
    "replay_batch_size = 32\n",
    "replay_time_steps = 4\n",
    "\n",
    "n_episodes = 1000\n",
    "gamma = 0.99\n",
    "train_freq = 4"
   ]
  },
  {
   "cell_type": "markdown",
   "metadata": {},
   "source": [
    "### Learning"
   ]
  },
  {
   "cell_type": "code",
   "execution_count": 15,
   "metadata": {},
   "outputs": [],
   "source": [
    "env = gym.make(env_name)\n",
    "target_brain = AtariBrain(n_hidden, n_outputs, replay_batch_size, replay_time_steps)\n",
    "brain = AtariBrain(n_hidden, n_outputs, replay_batch_size, replay_time_steps, \n",
    "                   lr, target_brain, target_update_freq)\n",
    "acting = DecayingEpsGreedyPolicy(start_eps, end_eps, eps_decay)\n",
    "replay_memory = EpisodicMemory(replay_memory_size, replay_batch_size, \n",
    "                               replay_time_steps)\n",
    "converter = PongConverter()\n",
    "\n",
    "agent = AtariAgent(n_episodes, env, brain, acting, replay_memory, \n",
    "                   gamma, converter, train_freq)\n",
    "\n",
    "rewards, _ = agent.run()"
   ]
  },
  {
   "cell_type": "code",
   "execution_count": 16,
   "metadata": {},
   "outputs": [
    {
     "data": {
      "text/plain": [
       "<matplotlib.collections.PathCollection at 0x142c1a358>"
      ]
     },
     "execution_count": 16,
     "metadata": {},
     "output_type": "execute_result"
    },
    {
     "data": {
      "image/png": "[encoded data removed]",
      "text/plain": [
       "<Figure size 1152x432 with 1 Axes>"
      ]
     },
     "metadata": {
      "needs_background": "light"
     },
     "output_type": "display_data"
    }
   ],
   "source": [
    "plt.figure(figsize=(16, 6))\n",
    "plt.title('Pong - DQN')\n",
    "plt.xlabel('Episode')\n",
    "plt.ylabel('Reward')\n",
    "plt.scatter(range(len(rewards)), rewards, s=3)"
   ]
  },
  {
   "cell_type": "markdown",
   "metadata": {},
   "source": [
    "## Space Invaders"
   ]
  },
  {
   "cell_type": "markdown",
   "metadata": {},
   "source": [
    "> Space Invaders is a fixed shooter in which the player controls a laser cannon by moving it horizontally across the bottom of the screen and firing at descending aliens. The aim is to defeat five rows of eleven aliens—although some versions feature different numbers—that move horizontally back and forth across the screen as they advance toward the bottom of the screen. The player's laser cannon is partially protected by several stationary defense bunkers—the number also varies by version—that are gradually destroyed from the top and bottom by blasts from either the aliens or the player.\n",
    "\n",
    "_Description from_ [Wikipedia](https://en.wikipedia.org/wiki/Space_Invaders)"
   ]
  },
  {
   "cell_type": "markdown",
   "metadata": {},
   "source": [
    "![SpaceInvaders](../assets/SpaceInvaders_160x210.gif)"
   ]
  },
  {
   "cell_type": "markdown",
   "metadata": {},
   "source": [
    "### Action space"
   ]
  },
  {
   "cell_type": "markdown",
   "metadata": {},
   "source": [
    "Space Invaders also has 6 actions:"
   ]
  },
  {
   "cell_type": "code",
   "execution_count": 17,
   "metadata": {},
   "outputs": [
    {
     "data": {
      "text/plain": [
       "['NOOP', 'FIRE', 'RIGHT', 'LEFT', 'RIGHTFIRE', 'LEFTFIRE']"
      ]
     },
     "execution_count": 17,
     "metadata": {},
     "output_type": "execute_result"
    }
   ],
   "source": [
    "env = gym.make('SpaceInvadersDeterministic-v4')\n",
    "env.unwrapped.get_action_meanings()"
   ]
  },
  {
   "cell_type": "markdown",
   "metadata": {},
   "source": [
    "But in order to speed up training, we will be using only first 4: `NOOP`, `FIRE`, `RIGHT`, and `LEFT`. No preprocessing is needed this time."
   ]
  },
  {
   "cell_type": "markdown",
   "metadata": {},
   "source": [
    "### Training parameters"
   ]
  },
  {
   "cell_type": "code",
   "execution_count": 18,
   "metadata": {},
   "outputs": [],
   "source": [
    "# Environment\n",
    "env_name = 'SpaceInvadersDeterministic-v4'\n",
    "\n",
    "# Brain\n",
    "n_hidden = 1024\n",
    "n_outputs = 4\n",
    "lr = 0.00005\n",
    "target_update_freq = 10000\n",
    "\n",
    "# Action Selection Policy\n",
    "start_eps = 1.0\n",
    "end_eps = 0.01\n",
    "eps_decay = 2\n",
    "\n",
    "# Experience Replay Memory\n",
    "replay_memory_size = 1000000\n",
    "replay_batch_size = 32\n",
    "replay_time_steps = 4\n",
    "\n",
    "# Agent\n",
    "n_episodes = 10000\n",
    "gamma = 0.99\n",
    "train_freq = 4"
   ]
  },
  {
   "cell_type": "markdown",
   "metadata": {},
   "source": [
    "### Learning"
   ]
  },
  {
   "cell_type": "code",
   "execution_count": 19,
   "metadata": {},
   "outputs": [],
   "source": [
    "env = gym.make(env_name)\n",
    "target_brain = AtariBrain(n_hidden, n_outputs, replay_batch_size, replay_time_steps)\n",
    "brain = AtariBrain(n_hidden, n_outputs, replay_batch_size, replay_time_steps, \n",
    "                   lr, target_brain, target_update_freq)\n",
    "acting = DecayingEpsGreedyPolicy(start_eps, end_eps, eps_decay)\n",
    "replay_memory = EpisodicMemory(replay_memory_size, replay_batch_size, \n",
    "                               replay_time_steps)\n",
    "converter = AtariConverter()\n",
    "\n",
    "agent = AtariAgent(n_episodes, env, brain, acting, replay_memory, \n",
    "                   gamma, converter, train_freq)\n",
    "\n",
    "rewards, _ = agent.run()"
   ]
  },
  {
   "cell_type": "code",
   "execution_count": 20,
   "metadata": {},
   "outputs": [
    {
     "data": {
      "text/plain": [
       "<matplotlib.collections.PathCollection at 0x147056780>"
      ]
     },
     "execution_count": 20,
     "metadata": {},
     "output_type": "execute_result"
    },
    {
     "data": {
      "image/png": "[encoded data removed]",
      "text/plain": [
       "<Figure size 1152x432 with 1 Axes>"
      ]
     },
     "metadata": {
      "needs_background": "light"
     },
     "output_type": "display_data"
    }
   ],
   "source": [
    "plt.figure(figsize=(16, 6))\n",
    "plt.title('Space Invaders - DQN')\n",
    "plt.xlabel('Episode')\n",
    "plt.ylabel('Reward')\n",
    "plt.scatter(range(len(rewards)), rewards, s=3)"
   ]
  },
  {
   "cell_type": "markdown",
   "metadata": {},
   "source": [
    "***"
   ]
  },
  {
   "cell_type": "markdown",
   "metadata": {},
   "source": [
    "Brain image source: momentousinstitute.org"
   ]
  }
 ],
 "metadata": {
  "kernelspec": {
   "display_name": "Python 3",
   "language": "python",
   "name": "python3"
  },
  "language_info": {
   "codemirror_mode": {
    "name": "ipython",
    "version": 3
   },
   "file_extension": ".py",
   "mimetype": "text/x-python",
   "name": "python",
   "nbconvert_exporter": "python",
   "pygments_lexer": "ipython3",
   "version": "3.6.8"
  }
 },
 "nbformat": 4,
 "nbformat_minor": 2
}
